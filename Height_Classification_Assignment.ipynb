{
 "cells": [
  {
   "cell_type": "markdown",
   "id": "492131de",
   "metadata": {},
   "source": [
    "# Assignment 1: Height Classification using Histograms and Gaussian Models"
   ]
  },
  {
   "cell_type": "code",
   "execution_count": null,
   "id": "d4de921b",
   "metadata": {},
   "outputs": [],
   "source": [
    "from google.colab import files\n",
    "uploaded = files.upload()"
   ]
  },
  {
   "cell_type": "markdown",
   "id": "3911a697",
   "metadata": {},
   "source": [
    "### Step 2: Load Data"
   ]
  },
  {
   "cell_type": "code",
   "execution_count": null,
   "id": "1fa25d1c",
   "metadata": {},
   "outputs": [],
   "source": [
    "import pandas as pd\n",
    "import numpy as np\n",
    "from scipy.stats import norm\n",
    "import matplotlib.pyplot as plt\n",
    "\n",
    "xls = pd.ExcelFile('Assignment_1_Data_and_Template.xlsx')\n",
    "print(\"Available sheets:\", xls.sheet_names)\n",
    "\n",
    "# Assuming the data is in sheet named 'Data'\n",
    "df = pd.read_excel(xls, sheet_name='Data')\n",
    "df = df[['Gender', 'Height']].dropna()\n",
    "df.head()"
   ]
  },
  {
   "cell_type": "markdown",
   "id": "2cf6420c",
   "metadata": {},
   "source": [
    "### Step 3: Split by Gender"
   ]
  },
  {
   "cell_type": "code",
   "execution_count": null,
   "id": "3144ed8c",
   "metadata": {},
   "outputs": [],
   "source": [
    "male_heights = df[df['Gender'] == 'Male']['Height']\n",
    "female_heights = df[df['Gender'] == 'Female']['Height']"
   ]
  },
  {
   "cell_type": "markdown",
   "id": "8638d082",
   "metadata": {},
   "source": [
    "### Step 4: Create Histograms with 32 Bins"
   ]
  },
  {
   "cell_type": "code",
   "execution_count": null,
   "id": "7d1a2d3a",
   "metadata": {},
   "outputs": [],
   "source": [
    "male_hist, bins = np.histogram(male_heights, bins=32)\n",
    "female_hist, _ = np.histogram(female_heights, bins=bins)\n",
    "\n",
    "print(\"Male histogram counts:\", male_hist.tolist())\n",
    "print(\"Female histogram counts:\", female_hist.tolist())"
   ]
  },
  {
   "cell_type": "markdown",
   "id": "2b020f4d",
   "metadata": {},
   "source": [
    "### Step 5: Classify Heights using Histogram Counts"
   ]
  },
  {
   "cell_type": "code",
   "execution_count": null,
   "id": "e1c6bf9b",
   "metadata": {},
   "outputs": [],
   "source": [
    "def classify_using_histogram(height):\n",
    "    bin_index = np.digitize(height, bins) - 1\n",
    "    bin_index = min(max(bin_index, 0), 31)  # Clamp to valid range\n",
    "\n",
    "    p_male = male_hist[bin_index] / male_hist.sum()\n",
    "    p_female = female_hist[bin_index] / female_hist.sum()\n",
    "\n",
    "    prior_male = len(male_heights) / len(df)\n",
    "    prior_female = len(female_heights) / len(df)\n",
    "\n",
    "    numerator_male = p_male * prior_male\n",
    "    numerator_female = p_female * prior_female\n",
    "\n",
    "    if numerator_male + numerator_female == 0:\n",
    "        return \"Unknown\", 0.0\n",
    "\n",
    "    posterior_male = numerator_male / (numerator_male + numerator_female)\n",
    "    posterior_female = 1 - posterior_male\n",
    "\n",
    "    label = \"Male\" if posterior_male > posterior_female else \"Female\"\n",
    "    return label, max(posterior_male, posterior_female)\n",
    "\n",
    "print(\"\\nHistogram Classifier:\")\n",
    "for h in [55, 60, 65, 70, 75, 80]:\n",
    "    label, prob = classify_using_histogram(h)\n",
    "    print(f\"Height {h}: Predicted = {label}, Posterior Probability = {prob:.4f}\")"
   ]
  },
  {
   "cell_type": "markdown",
   "id": "962d410d",
   "metadata": {},
   "source": [
    "### Step 6: Fit Gaussian Models"
   ]
  },
  {
   "cell_type": "code",
   "execution_count": null,
   "id": "2af87b83",
   "metadata": {},
   "outputs": [],
   "source": [
    "male_mu, male_sigma = male_heights.mean(), male_heights.std()\n",
    "female_mu, female_sigma = female_heights.mean(), female_heights.std()"
   ]
  },
  {
   "cell_type": "markdown",
   "id": "8c7440b2",
   "metadata": {},
   "source": [
    "### Step 7: Classify Heights using Gaussian Model"
   ]
  },
  {
   "cell_type": "code",
   "execution_count": null,
   "id": "b20a0d46",
   "metadata": {},
   "outputs": [],
   "source": [
    "prior_male = len(male_heights) / len(df)\n",
    "prior_female = len(female_heights) / len(df)\n",
    "\n",
    "print(\"\\nBayesian Gaussian Classifier:\")\n",
    "for h in [55, 60, 65, 70, 75, 80]:\n",
    "    p_h_male = norm.pdf(h, male_mu, male_sigma)\n",
    "    p_h_female = norm.pdf(h, female_mu, female_sigma)\n",
    "\n",
    "    numerator_male = p_h_male * prior_male\n",
    "    numerator_female = p_h_female * prior_female\n",
    "\n",
    "    posterior_male = numerator_male / (numerator_male + numerator_female)\n",
    "    posterior_female = 1 - posterior_male\n",
    "\n",
    "    label = \"Male\" if posterior_male > posterior_female else \"Female\"\n",
    "    print(f\"Height {h}: Predicted = {label}, P(Male|h) = {posterior_male:.4f}, P(Female|h) = {posterior_female:.4f}\")"
   ]
  },
  {
   "cell_type": "markdown",
   "id": "cba7856a",
   "metadata": {},
   "source": [
    "### Step 8: Repeat for First 50 Samples"
   ]
  },
  {
   "cell_type": "code",
   "execution_count": null,
   "id": "fc7ffa1d",
   "metadata": {},
   "outputs": [],
   "source": [
    "print(\"\\n--- Using Only First 50 Samples ---\")\n",
    "df_50 = df.iloc[:50]\n",
    "male_heights_50 = df_50[df_50['Gender'] == 'Male']['Height']\n",
    "female_heights_50 = df_50[df_50['Gender'] == 'Female']['Height']\n",
    "\n",
    "male_hist_50, bins_50 = np.histogram(male_heights_50, bins=32)\n",
    "female_hist_50, _ = np.histogram(female_heights_50, bins=bins_50)\n",
    "\n",
    "male_mu_50, male_sigma_50 = male_heights_50.mean(), male_heights_50.std()\n",
    "female_mu_50, female_sigma_50 = female_heights_50.mean(), female_heights_50.std()\n",
    "\n",
    "prior_male_50 = len(male_heights_50) / len(df_50)\n",
    "prior_female_50 = len(female_heights_50) / len(df_50)\n",
    "\n",
    "print(\"\\nBayesian Classifier on 50 Samples:\")\n",
    "for h in [55, 60, 65, 70, 75, 80]:\n",
    "    p_h_male = norm.pdf(h, male_mu_50, male_sigma_50)\n",
    "    p_h_female = norm.pdf(h, female_mu_50, female_sigma_50)\n",
    "\n",
    "    numerator_male = p_h_male * prior_male_50\n",
    "    numerator_female = p_h_female * prior_female_50\n",
    "\n",
    "    posterior_male = numerator_male / (numerator_male + numerator_female)\n",
    "    posterior_female = 1 - posterior_male\n",
    "\n",
    "    label = \"Male\" if posterior_male > posterior_female else \"Female\"\n",
    "    print(f\"Height {h}: Predicted = {label}, P(Male|h) = {posterior_male:.4f}, P(Female|h) = {posterior_female:.4f}\")"
   ]
  },
  {
   "cell_type": "markdown",
   "id": "379e4ebe",
   "metadata": {},
   "source": [
    "### Observations\n",
    "- Histogram classifier is sensitive to bin size and number of samples.\n",
    "- Bayesian classifier provides smoother and more general results.\n",
    "- With fewer data points (50 entries), Gaussian model remains more stable."
   ]
  },
  {
   "cell_type": "code",
   "execution_count": null,
   "id": "bb3e094e",
   "metadata": {},
   "outputs": [],
   "source": [
    "print(\"\\n--- Using Only First 50 Samples ---\")\n",
    "df_50 = df.iloc[:50]\n",
    "male_heights_50 = df_50[df_50['Gender'] == 'Male']['Height']\n",
    "female_heights_50 = df_50[df_50['Gender'] == 'Female']['Height']\n",
    "\n",
    "male_hist_50, bins_50 = np.histogram(male_heights_50, bins=32)\n",
    "female_hist_50, _ = np.histogram(female_heights_50, bins=bins_50)\n",
    "\n",
    "male_mu_50, male_sigma_50 = male_heights_50.mean(), male_heights_50.std()\n",
    "female_mu_50, female_sigma_50 = female_heights_50.mean(), female_heights_50.std()\n",
    "\n",
    "prior_male_50 = len(male_heights_50) / len(df_50)\n",
    "prior_female_50 = 1 - prior_male_50"
   ]
  },
  {
   "cell_type": "code",
   "execution_count": null,
   "id": "39d582b1",
   "metadata": {},
   "outputs": [],
   "source": [
    "print(\"\\nBayesian Classifier on 50 Samples:\")\n",
    "for h in [55, 60, 65, 70, 75, 80]:\n",
    "    p_h_male = norm.pdf(h, male_mu_50, male_sigma_50)\n",
    "    p_h_female = norm.pdf(h, female_mu_50, female_sigma_50)\n",
    "    numerator_male = p_h_male * prior_male_50\n",
    "    numerator_female = p_h_female * prior_female_50\n",
    "    posterior_male = numerator_male / (numerator_male + numerator_female)\n",
    "    posterior_female = 1 - posterior_male\n",
    "    label = \"Male\" if posterior_male > posterior_female else \"Female\"\n",
    "    print(f\"Height {h}: Predicted = {label}, P(Male|h) = {posterior_male:.4f}, P(Female|h) = {posterior_female:.4f}\")"
   ]
  },
  {
   "cell_type": "markdown",
   "id": "d76fe568",
   "metadata": {},
   "source": [
    "### Observations\n",
    "- Histogram classifier is sensitive to bin size and number of samples.\n",
    "- Bayesian classifier provides smoother and more general results.\n",
    "- With fewer data points (50 entries), Gaussian model remains more stable."
   ]
  }
 ],
 "metadata": {},
 "nbformat": 4,
 "nbformat_minor": 5
}